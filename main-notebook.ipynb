{
 "cells": [
  {
   "cell_type": "markdown",
   "id": "a1f18035",
   "metadata": {},
   "source": [
    "# 1. Multiple syms in one file"
   ]
  },
  {
   "cell_type": "code",
   "execution_count": 1,
   "id": "dd05eec4",
   "metadata": {},
   "outputs": [],
   "source": [
    "import pandas as pd"
   ]
  },
  {
   "cell_type": "code",
   "execution_count": 8,
   "id": "649ce43b",
   "metadata": {},
   "outputs": [
    {
     "name": "stdout",
     "output_type": "stream",
     "text": [
      "                                 Open        High         Low       Close  \\\n",
      "Date                                                                        \n",
      "2012-05-18 00:00:00-04:00   42.049999   45.000000   38.000000   38.230000   \n",
      "2012-05-21 00:00:00-04:00   36.529999   36.660000   33.000000   34.029999   \n",
      "2012-05-22 00:00:00-04:00   32.610001   33.590000   30.940001   31.000000   \n",
      "2012-05-23 00:00:00-04:00   31.370001   32.500000   31.360001   32.000000   \n",
      "2012-05-24 00:00:00-04:00   32.950001   33.209999   31.770000   33.029999   \n",
      "...                               ...         ...         ...         ...   \n",
      "2022-10-10 00:00:00-04:00  133.550003  136.110001  131.869995  133.789993   \n",
      "2022-10-11 00:00:00-04:00  131.619995  132.660004  126.989998  128.539993   \n",
      "2022-10-12 00:00:00-04:00  128.320007  129.669998  126.250000  127.500000   \n",
      "2022-10-13 00:00:00-04:00  123.529999  131.139999  122.529999  130.289993   \n",
      "2022-10-14 00:00:00-04:00  131.000000  131.789993  128.429993  129.229904   \n",
      "\n",
      "                              Volume  Dividends  Stock Splits  \n",
      "Date                                                           \n",
      "2012-05-18 00:00:00-04:00  573576400          0             0  \n",
      "2012-05-21 00:00:00-04:00  168192700          0             0  \n",
      "2012-05-22 00:00:00-04:00  101786600          0             0  \n",
      "2012-05-23 00:00:00-04:00   73600000          0             0  \n",
      "2012-05-24 00:00:00-04:00   50237200          0             0  \n",
      "...                              ...        ...           ...  \n",
      "2022-10-10 00:00:00-04:00   24024000          0             0  \n",
      "2022-10-11 00:00:00-04:00   38481400          0             0  \n",
      "2022-10-12 00:00:00-04:00   34605200          0             0  \n",
      "2022-10-13 00:00:00-04:00   34297800          0             0  \n",
      "2022-10-14 00:00:00-04:00    3567696          0             0  \n",
      "\n",
      "[2620 rows x 7 columns]\n"
     ]
    }
   ],
   "source": [
    "with pd.HDFStore(\"daily_universe-2.h5\") as f:\n",
    "    print(f[\"META\"])\n",
    "    #print(list(f.keys())) # behaves like a dictionary\n",
    "    pass\n"
   ]
  },
  {
   "cell_type": "markdown",
   "id": "ce80a353",
   "metadata": {},
   "source": [
    "# How to create the file"
   ]
  },
  {
   "cell_type": "code",
   "execution_count": 2,
   "id": "16eb96b6",
   "metadata": {},
   "outputs": [],
   "source": [
    "import yfinance as yf\n",
    "import pandas as pd"
   ]
  },
  {
   "cell_type": "code",
   "execution_count": 7,
   "id": "3300a796",
   "metadata": {},
   "outputs": [
    {
     "name": "stdout",
     "output_type": "stream",
     "text": [
      "1\n",
      "2\n",
      "3\n"
     ]
    }
   ],
   "source": [
    "counter = 0\n",
    "for sym in [\"TSLA\",\"GOOG\",\"META\"]:\n",
    "    data = yf.Ticker(sym).history(period = \"max\")\n",
    "    \n",
    "    # default format=fixed, can also use format=table\n",
    "    data.to_hdf(\"daily_universe-2.h5\", key = sym, mode = \"a\") \n",
    "    counter += 1\n",
    "    print(counter)"
   ]
  },
  {
   "cell_type": "markdown",
   "id": "3cbaacdc",
   "metadata": {},
   "source": [
    "# 2. Dealing with large files"
   ]
  },
  {
   "cell_type": "markdown",
   "id": "56600bc0",
   "metadata": {},
   "source": [
    "## I can't load in this CSV without crashing Kernel"
   ]
  },
  {
   "cell_type": "code",
   "execution_count": null,
   "id": "b37e51d8",
   "metadata": {},
   "outputs": [],
   "source": [
    "big_df = pd.read_csv(\"BTCUSDT-trades-2022-09.csv\") # 175,214,455 lines"
   ]
  },
  {
   "cell_type": "markdown",
   "id": "3c3b9fbd",
   "metadata": {},
   "source": [
    "## But I can load the HDF!"
   ]
  },
  {
   "cell_type": "code",
   "execution_count": 4,
   "id": "c3b4a2c1",
   "metadata": {},
   "outputs": [
    {
     "name": "stdout",
     "output_type": "stream",
     "text": [
      "                       id     price   amount  quote_amount  isMakerBuyer  \\\n",
      "timestamp                                                                  \n",
      "1662768000006  1785608194  21360.11  0.00313     66.857144          True   \n",
      "1662768000007  1785608195  21361.62  0.00124     26.488409         False   \n",
      "1662768000008  1785608196  21361.62  0.00123     26.274793         False   \n",
      "1662768000011  1785608197  21360.11  0.00125     26.700138          True   \n",
      "1662768000011  1785608198  21360.11  0.00346     73.905981          True   \n",
      "...                   ...       ...      ...           ...           ...   \n",
      "1662771599998  1785905771  21258.39  0.00077     16.368960         False   \n",
      "1662771599999  1785905772  21258.39  0.02285    485.754211         False   \n",
      "1662771599999  1785905773  21258.69  0.00397     84.396999         False   \n",
      "1662771599999  1785905774  21258.73  0.07390   1571.020147         False   \n",
      "1662771599999  1785905775  21258.74  0.40690   8650.181306         False   \n",
      "\n",
      "               bestPrice  \n",
      "timestamp                 \n",
      "1662768000006       True  \n",
      "1662768000007       True  \n",
      "1662768000008       True  \n",
      "1662768000011       True  \n",
      "1662768000011       True  \n",
      "...                  ...  \n",
      "1662771599998       True  \n",
      "1662771599999       True  \n",
      "1662771599999       True  \n",
      "1662771599999       True  \n",
      "1662771599999       True  \n",
      "\n",
      "[297582 rows x 6 columns]\n"
     ]
    }
   ],
   "source": [
    "with pd.HDFStore(\"BTCUSDT-trades-2022-09.h5\") as f:\n",
    "    # can query by any data column\n",
    "    print(f.select(\"BTCUSDT\", where = [\"index > 1662768000000\", \"index < 1662771600000\" ]))"
   ]
  },
  {
   "cell_type": "code",
   "execution_count": 5,
   "id": "e7fb651c",
   "metadata": {},
   "outputs": [
    {
     "name": "stdout",
     "output_type": "stream",
     "text": [
      "/BTCUSDT/table (Table(175214455,)) ''\n"
     ]
    }
   ],
   "source": [
    "with pd.HDFStore(\"BTCUSDT-trades-2022-09.h5\") as f:\n",
    "    print(f.get_storer(\"BTCUSDT\").table)"
   ]
  },
  {
   "cell_type": "markdown",
   "id": "e6c74745",
   "metadata": {},
   "source": [
    "## Chunking down and saving large CSV"
   ]
  },
  {
   "cell_type": "code",
   "execution_count": null,
   "id": "68e774b2",
   "metadata": {},
   "outputs": [],
   "source": [
    "import pandas as pd\n",
    "big_df_chunked = pd.read_csv(\"BTCUSDT-trades-2022-09.csv\", chunksize = 10_000_000,\n",
    "                            names = [\"id\",\"price\",\"amount\",\"quote_amount\",\"timestamp\",\"isMakerBuyer\",\"bestPrice\"],\n",
    "                            index_col = \"timestamp\")\n",
    "\n",
    "store = pd.HDFStore(\"BTCUSDT-trades-2-2022-09.h5\", mode='w', complevel = 9) # complevel = x for compression\n",
    "for chunk in big_df_chunked:\n",
    "    store.append('BTCUSDT', chunk)\n",
    "store.close()"
   ]
  },
  {
   "cell_type": "markdown",
   "id": "1c41630a",
   "metadata": {},
   "source": [
    "# Vs. RDBMS\n",
    "\n",
    "Pros\n",
    " * No maintainance\n",
    " * Archival\n",
    " * Portable\n",
    " * quicker?\n",
    " \n",
    "Cons\n",
    "\n",
    " * Can't change schema\n",
    " * Concurrency more difficult"
   ]
  },
  {
   "cell_type": "markdown",
   "id": "022b2653",
   "metadata": {},
   "source": [
    "# Vs CSV\n",
    "\n",
    "Pros\n",
    "\n",
    " * Doesn't have to fit in memory, file size can be TBs\n",
    " * Multiple, potentially unrelated data sets in one container\n",
    " * Partial IO\n",
    "\n",
    "\n",
    "Cons\n",
    "\n",
    " * Not plain text\n",
    " * Larger learning curve\n",
    " * More thinking required when saving down data"
   ]
  },
  {
   "cell_type": "markdown",
   "id": "59037857",
   "metadata": {},
   "source": [
    "# Useful links\n",
    "\n",
    "Dataframe.to_hdf\n",
    "```\n",
    "https://pandas.pydata.org/docs/reference/api/pandas.DataFrame.to_hdf.html\n",
    "```\n",
    "\n",
    "HDFStore functions\n",
    "```\n",
    "https://pandas.pydata.org/docs/reference/api/pandas.HDFStore.put.html\n",
    "```\n",
    "\n",
    "Cookbook (lots of other less-documented stuff)\n",
    "```\n",
    "https://pandas.pydata.org/pandas-docs/stable/user_guide/cookbook.html#cookbook-hdf\n",
    "```\n",
    "\n",
    "HDFStore class definition\n",
    "```\n",
    "https://github.com/pandas-dev/pandas/blob/3d6b36557582279a8a3bc45a49aa15c5cf44bdd9/pandas/io/pytables.py#L478\n",
    "```\n",
    "\n",
    "\n",
    "Pandas uses Pytable under the hood. To get the absolute best performance, you'll want to tweak things there:\n",
    "```\n",
    "https://www.pytables.org/\n",
    "```\n",
    "\n",
    "Helpful tutorial series\n",
    "```\n",
    "https://www.youtube.com/watch?v=S74Kc8QYDac&list=PLPyhR4PdEeGYWHRhzmCP5stzfIha8bqVg\n",
    "```"
   ]
  },
  {
   "cell_type": "code",
   "execution_count": null,
   "id": "3be7fa98",
   "metadata": {},
   "outputs": [],
   "source": []
  }
 ],
 "metadata": {
  "kernelspec": {
   "display_name": "Python 3 (ipykernel)",
   "language": "python",
   "name": "python3"
  },
  "language_info": {
   "codemirror_mode": {
    "name": "ipython",
    "version": 3
   },
   "file_extension": ".py",
   "mimetype": "text/x-python",
   "name": "python",
   "nbconvert_exporter": "python",
   "pygments_lexer": "ipython3",
   "version": "3.8.10"
  }
 },
 "nbformat": 4,
 "nbformat_minor": 5
}
